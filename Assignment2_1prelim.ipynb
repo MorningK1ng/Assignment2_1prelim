{
  "nbformat": 4,
  "nbformat_minor": 0,
  "metadata": {
    "kernelspec": {
      "display_name": "Python 3",
      "language": "python",
      "name": "python3"
    },
    "language_info": {
      "codemirror_mode": {
        "name": "ipython",
        "version": 3
      },
      "file_extension": ".py",
      "mimetype": "text/x-python",
      "name": "python",
      "nbconvert_exporter": "python",
      "pygments_lexer": "ipython3",
      "version": "3.8.3"
    },
    "colab": {
      "name": "Assignment2_1prelim.ipynb",
      "provenance": [],
      "collapsed_sections": []
    }
  },
  "cells": [
    {
      "cell_type": "markdown",
      "metadata": {
        "id": "edcYla6OxqTs"
      },
      "source": [
        "# Python Assignment: due @4pm Thur 7 Oct 2021"
      ]
    },
    {
      "cell_type": "markdown",
      "metadata": {
        "id": "oS6q9Yuu97yK"
      },
      "source": [
        "This assignment has two main tasks\n",
        "(1) to evaluate the monthly investment balances for the stock and the portfolio assigned to your group for the Excel Assignment.\n",
        "(2) to draw the risk-return diagram (i.e. investment opportinity set) based on the various combinations of weights used associated with the investments into the stock and the portfolio assigned.\n",
        "\n",
        "The group work will be marked out of 100 and then scaled to 10 marks. Students will work in the same group as for Assignment 1. If in doubt, please refer to LMS.\n",
        "\n",
        "This assignment is due at 4pm Thur 7 Oct 2021. Late assignments will receive a deduction of 5% of the mark per day or part thereof.  The same as for the Excel Assignment, everyone is required to participate in the Python Assignment Spark, which is due one week after this assignment due date. Each group is required to submit 4 files as shown below\n",
        "\n",
        "1. This 1prelim.ipynb file, which is used for interactive completion of the main tasks. You can use Google Colab or Jupyter etc. You must not use Excel in completing this assignment. Rename this prelim file according to your group numbering, e.g., Group1_1prelim.ipynb or Group2_1prelim.ipynb etc.  This GroupN_1prelim.ipynb file is the 1st file to submit.  \n",
        "\n",
        "2.   Upon completion of the 1prelim.ipynb file, use its companion .py file GroupN_1prelim.py, rename it to GroupN_3main.py, and proceed to the following tasks:  \n",
        "*   build a module with the .py extension by condensing selective lines in GroupN_3main.py and then revising them as functions. \n",
        "*   place all functions in a user-defined custom module, and also name this module file according to your group's numbering (e.g., Group1_2module.py, Group2_2module.py). \n",
        "This GroupN_2module.py is the 2nd file to submit.\n",
        "\n",
        "3.  To streamline the codes in renamed file GroupN_3main.py, first add the codes to import the GroupN_3module, and then revise the relevant lines to use the functions located in the module you built.  This GroupN_3main.py is the third file to submit.\n",
        "\n",
        "4.  The 4th file to submit is the .csv input file. Details see step 1 below.\n",
        "\n",
        "Out of the 100 marks available: 50, 25 and 25 marks will be allocated to the first 3 files, respectively. When your assignment is marked, all the submitted codes are expected to automatically execute. As such, if you compute the results based on Excel, and/or cut-and-paste the results from Excel to the .ipynb or .py files, it is likely that your results wont't be reproduced. In this case, your group will lose most of the marks available for this assignment.\n",
        "\n",
        "To avoid the above problem, you are recommended to run your .ipynb and .py files on different computers. If you don't encounter any problem when running the files on those computers, chances are that your results can be reproduced when being marked.  \n",
        "\n",
        "Have fun!"
      ]
    },
    {
      "cell_type": "markdown",
      "metadata": {
        "id": "-fMOrHief4G1"
      },
      "source": [
        "# 0. Import libraries"
      ]
    },
    {
      "cell_type": "markdown",
      "metadata": {
        "id": "Rj_hCy8SQleu"
      },
      "source": [
        "Please import the numpy, pandas, io, statsmodels and matplotlib libraries (note that io is only used in Google Colab.)"
      ]
    },
    {
      "cell_type": "code",
      "metadata": {
        "id": "7TciILdiID6r"
      },
      "source": [
        "import matplotlib.pyplot as plt\n",
        "import io\n",
        "import statsmodels.formula.api as smf  # for running regressions"
      ],
      "execution_count": null,
      "outputs": []
    },
    {
      "cell_type": "markdown",
      "metadata": {
        "id": "NEls6swgFE39"
      },
      "source": [
        "Import the other two libraries below"
      ]
    },
    {
      "cell_type": "code",
      "metadata": {
        "id": "pcYvIGWKfmrt"
      },
      "source": [
        "__________________________\n",
        "__________________________"
      ],
      "execution_count": null,
      "outputs": []
    },
    {
      "cell_type": "markdown",
      "metadata": {
        "id": "Bt9fRprPgHVt"
      },
      "source": [
        "# 1. Upload two .csv files: (1) monthly SIMPLE NET RETURNS for your stock and portfolio (2) FF3F_data.csv"
      ]
    },
    {
      "cell_type": "markdown",
      "metadata": {
        "id": "uA3X7gPyQzpR"
      },
      "source": [
        "1.1 Please refer to your Excel Assignment, copy Date (from Dec2014 to Dec2020) and two monthly returns, and save these three columns in a .csv file named GroupN.csv.\n",
        "\n",
        "Please refer to week4_2.py and upload the two .csv files to Google Colab (Note that for .py file, np.read_csv can be used directly.)"
      ]
    },
    {
      "cell_type": "code",
      "metadata": {
        "id": "OIlNXXDWfmrw"
      },
      "source": [
        "from google.colab import files\n",
        "uploaded = ___________"
      ],
      "execution_count": null,
      "outputs": []
    },
    {
      "cell_type": "code",
      "metadata": {
        "id": "btavCqfVSdXD"
      },
      "source": [
        "data = pd.read_csv(io.StringIO(__________________.decode('utf-8')))\n",
        "data.head()"
      ],
      "execution_count": null,
      "outputs": []
    },
    {
      "cell_type": "code",
      "metadata": {
        "id": "09tHPpMF1hk5"
      },
      "source": [
        "FF3F = pd.read_csv(io.StringIO(__________________.decode('utf-8')))\n",
        "FF3F.head()"
      ],
      "execution_count": null,
      "outputs": []
    },
    {
      "cell_type": "markdown",
      "metadata": {
        "id": "fdMZwWQGRT0k"
      },
      "source": [
        "1.2 Check type of the object: \"data\" "
      ]
    },
    {
      "cell_type": "code",
      "metadata": {
        "id": "yv3jITh4RlsZ"
      },
      "source": [
        ""
      ],
      "execution_count": null,
      "outputs": []
    },
    {
      "cell_type": "markdown",
      "metadata": {
        "id": "qlIYT2u68ALM"
      },
      "source": [
        "1.3 Use pd.concat() to combine the input files for Step 4, save in FF3F (i.e., the stock and portfolio returns are added to the right of FF3F variables)"
      ]
    },
    {
      "cell_type": "code",
      "metadata": {
        "id": "FaW6sEKgABe0"
      },
      "source": [
        "FF3F=FF3F.drop(_________) #since both files have the \"Date\" column, delete the \"Date\" column from FF3F)\n",
        "FF3F"
      ],
      "execution_count": null,
      "outputs": []
    },
    {
      "cell_type": "code",
      "metadata": {
        "id": "-nhJc9VY8NSw"
      },
      "source": [
        "pd.concat?"
      ],
      "execution_count": null,
      "outputs": []
    },
    {
      "cell_type": "code",
      "metadata": {
        "id": "FwOSqvwr8N07"
      },
      "source": [
        "FF3F = pd.concat(____________)\n",
        "FF3F.head(3)"
      ],
      "execution_count": null,
      "outputs": []
    },
    {
      "cell_type": "markdown",
      "metadata": {
        "id": "tIymWK8_grHj"
      },
      "source": [
        "# 2. Convert the simple net returns for the stock to continuously compounded returns (namely, log returns) "
      ]
    },
    {
      "cell_type": "markdown",
      "metadata": {
        "id": "VcIrp-IG18K6"
      },
      "source": [
        "2.1 Now leave FF3F aside until Task 4.  Let us first work with data, which has two columns of simple net returns.  Calculate the monthly log returns of the stock as the 3rd column of data."
      ]
    },
    {
      "cell_type": "code",
      "metadata": {
        "id": "tmqGnSVi1HBh"
      },
      "source": [
        "data['r_stock'] =  np.log(___________)\n",
        "data.head()"
      ],
      "execution_count": null,
      "outputs": []
    },
    {
      "cell_type": "markdown",
      "metadata": {
        "id": "ZaipABzajj9y"
      },
      "source": [
        "2.2 Assuming the initial investment amount is $1,000, calculate the monthly cumulative return and investment balance of the stock \n",
        "Hints: \n",
        "(1) the \"cumsum\" method for a data frame can be used to obtain the cummulative sum of the log return from the first month in sample, denoted by cr_t; and \n",
        "(2) the \"exp\" function in numpy can be used to calculate the balance at month t is then Vt = 1000*exp(cr_t)"
      ]
    },
    {
      "cell_type": "code",
      "metadata": {
        "id": "NTcGpLxnne2-"
      },
      "source": [
        "data['cr_stock'] = data['r_stock'].___________\n",
        "data"
      ],
      "execution_count": null,
      "outputs": []
    },
    {
      "cell_type": "code",
      "metadata": {
        "id": "_G5fPLdxjwP2"
      },
      "source": [
        "data['balance_stock']=_____________________\n",
        "data"
      ],
      "execution_count": null,
      "outputs": []
    },
    {
      "cell_type": "markdown",
      "metadata": {
        "id": "LRW2YdtCrIpR"
      },
      "source": [
        "2.3 Repeat tasks 2.1 and 2.2 for the portfolio (please just copy the previous codes and revise accordingly. No need to use module here in the .ipynb file.  Module is required for the .py file."
      ]
    },
    {
      "cell_type": "code",
      "metadata": {
        "id": "yUSuE0mHrepA"
      },
      "source": [
        "data['r_pf'] =  ______________________\n",
        "data['cr_pf'] = _____________________\n",
        "data['balance_pf']=______________________\n",
        "data"
      ],
      "execution_count": null,
      "outputs": []
    },
    {
      "cell_type": "markdown",
      "metadata": {
        "id": "lnX1_80ks5oR"
      },
      "source": [
        "2.4 set the Date column as the index (please go through the help file first)"
      ]
    },
    {
      "cell_type": "code",
      "metadata": {
        "id": "-8Pw7_iItANS"
      },
      "source": [
        "data.set_index?"
      ],
      "execution_count": null,
      "outputs": []
    },
    {
      "cell_type": "code",
      "metadata": {
        "id": "j5liOrcHtBwB"
      },
      "source": [
        "#  make the 'date' (object) to become actual 'date'\n",
        "data['Date'] = pd.to_datetime(___________________) # tell Python that the orginal date was stated in mm/dd/yyyy format\n",
        "data"
      ],
      "execution_count": null,
      "outputs": []
    },
    {
      "cell_type": "code",
      "metadata": {
        "id": "85dSmSouuL58"
      },
      "source": [
        "data.set_index(__________)"
      ],
      "execution_count": null,
      "outputs": []
    },
    {
      "cell_type": "markdown",
      "metadata": {
        "id": "FYi-13R-Vgo9"
      },
      "source": [
        "# 3. Summary Statistics and Plots"
      ]
    },
    {
      "cell_type": "markdown",
      "metadata": {
        "id": "rUK1OSXNcS3S"
      },
      "source": [
        "3.1 Obtain the summary statistics for the 4 monthly returns using the describe method of a data frame\n"
      ]
    },
    {
      "cell_type": "code",
      "metadata": {
        "id": "Qgr33va7c0lZ"
      },
      "source": [
        "data.__________"
      ],
      "execution_count": null,
      "outputs": []
    },
    {
      "cell_type": "markdown",
      "metadata": {
        "id": "b0C-Zv_jJbvW"
      },
      "source": [
        "3.2 Scatter of r_pf against r_stock"
      ]
    },
    {
      "cell_type": "code",
      "metadata": {
        "id": "yxyXVG3aIRLG"
      },
      "source": [
        "plt.scatter?"
      ],
      "execution_count": null,
      "outputs": []
    },
    {
      "cell_type": "code",
      "metadata": {
        "id": "TCW58p5k38zo"
      },
      "source": [
        "plt.scatter(_________________________________)\n",
        "plt.xlabel('stock log rtn')\n",
        "plt.ylabel('pf log rtn')"
      ],
      "execution_count": null,
      "outputs": []
    },
    {
      "cell_type": "markdown",
      "metadata": {
        "id": "BIs2l8jrJjij"
      },
      "source": [
        "3.3 Two time series of r_stock and r_pf in one line plot"
      ]
    },
    {
      "cell_type": "code",
      "metadata": {
        "id": "EeTZtXykZJxi"
      },
      "source": [
        "plt.plot?"
      ],
      "execution_count": null,
      "outputs": []
    },
    {
      "cell_type": "code",
      "metadata": {
        "id": "sZ6iOswcy4dZ"
      },
      "source": [
        "plt.figure(figsize=(20,10))\n",
        "plt.grid(True)\n",
        "plt.plot(___________,label='logr_stock',alpha=0.5)\n",
        "plt.plot(___________, label='logr_portfolio',alpha=0.9)\n",
        "plt.legend(loc=4)"
      ],
      "execution_count": null,
      "outputs": []
    },
    {
      "cell_type": "markdown",
      "metadata": {
        "id": "TmWTVkZxsDuB"
      },
      "source": [
        "3.4 Two time series for balance_stock and balance_pf in one line plot"
      ]
    },
    {
      "cell_type": "code",
      "metadata": {
        "id": "QnyyE5josQjJ"
      },
      "source": [
        "plt.figure(____________)\n",
        "plt.grid(____)\n",
        "plt.plot(________________________________________________)\n",
        "plt.plot(_________________________________________________)\n",
        "plt.legend(____)"
      ],
      "execution_count": null,
      "outputs": []
    },
    {
      "cell_type": "markdown",
      "metadata": {
        "id": "t7BE9cV_iog1"
      },
      "source": [
        "# 4. Running FF3F for the simple excess returns of stock and portfolio (please refer to Week4_3.py on the FF3F regression."
      ]
    },
    {
      "cell_type": "markdown",
      "metadata": {
        "id": "6AFqm37096Uw"
      },
      "source": [
        "4.1 Now we work with FF3F. First calculate the excess return for the stock, with the column heading \"Re_stock\""
      ]
    },
    {
      "cell_type": "code",
      "metadata": {
        "id": "6kN-UCp42uft"
      },
      "source": [
        "FF3F['Re_stock']=_________________\n",
        "FF3F"
      ],
      "execution_count": null,
      "outputs": []
    },
    {
      "cell_type": "markdown",
      "metadata": {
        "id": "26Ym9BeZFbNb"
      },
      "source": [
        "4.2 Set \"Date\" as the index"
      ]
    },
    {
      "cell_type": "code",
      "metadata": {
        "id": "8pm-fKfVCsq2"
      },
      "source": [
        "FF3F['Date'] = ____________ # tell Python that the orginal date was stated in mm/dd/yyyy format\n",
        "FF3F.set_index(_____)"
      ],
      "execution_count": null,
      "outputs": []
    },
    {
      "cell_type": "markdown",
      "metadata": {
        "id": "6vt1PGDu9brX"
      },
      "source": [
        "4.3 Keep the target columns and run FF3F regression"
      ]
    },
    {
      "cell_type": "code",
      "metadata": {
        "id": "obndvjv_HXkO"
      },
      "source": [
        "targetC_stock=['Re_stock','MktRF', 'SMB','HML']\n",
        "FF3Fs = FF3F[targetC_stock]\n",
        "stock_FF3F_resutls=smf.___________________________________\n",
        "print(______________________)\n"
      ],
      "execution_count": null,
      "outputs": []
    },
    {
      "cell_type": "markdown",
      "metadata": {
        "id": "ehmisOQyUsjm"
      },
      "source": [
        "4.4 Repeat the regression for the portfolio."
      ]
    },
    {
      "cell_type": "code",
      "metadata": {
        "id": "8f9ZqRSiNN3T"
      },
      "source": [
        "# please add FF3F regression for the portfolio below\n"
      ],
      "execution_count": null,
      "outputs": []
    },
    {
      "cell_type": "markdown",
      "metadata": {
        "id": "0E60xQPBZS_0"
      },
      "source": [
        "# 5. Assuming equal weights, i.e., w=0.5, calculate ANNUAL expected return and volatility of your investment into the stock and the portfolio"
      ]
    },
    {
      "cell_type": "markdown",
      "metadata": {
        "id": "qBnRT8AuZAjK"
      },
      "source": [
        "5.1 Based on summary statitics for MONTHLY returns in 3.1, calculate ANNUAL return/volatility for the stock "
      ]
    },
    {
      "cell_type": "code",
      "metadata": {
        "id": "sqOq9Ye8dq20"
      },
      "source": [
        "df = pd.DataFrame(columns=('ER', 'SE'))"
      ],
      "execution_count": null,
      "outputs": []
    },
    {
      "cell_type": "code",
      "metadata": {
        "id": "2Zz32eHGZu8P"
      },
      "source": [
        "w =0.5\n",
        "ER_s = ________\t*12 \n",
        "ER_p = _________*12\n",
        "SE_s = _________ * 12**(1/2)\n",
        "SE_p = _________ * 12**(1/2)\n",
        "rou=data['R_stock'].corr(data['R_pf'])\n",
        "ER_2assets = ER_s *w + ER_p*(1-w)\n",
        "SE_2assets = _______________________________________"
      ],
      "execution_count": null,
      "outputs": []
    },
    {
      "cell_type": "markdown",
      "metadata": {
        "id": "B11Qs0elOFaD"
      },
      "source": [
        "5.2 Refer to the risk-rth diagram for two risk assets.xlsx in Week 5, note that we used 11 combinations of weights, with w goes from 0, 0.1, 0.2, ... , 1.  Here we place ER_2assets SE_2assets into df with index 5"
      ]
    },
    {
      "cell_type": "code",
      "metadata": {
        "id": "X-gqWlLaPacW"
      },
      "source": [
        "df.loc[___]=[ER_2assets,SE_2assets]\n",
        "df"
      ],
      "execution_count": null,
      "outputs": []
    },
    {
      "cell_type": "markdown",
      "metadata": {
        "id": "fG2JhOgff6aX"
      },
      "source": [
        "5.2 use the for loop to calculate the above for the 11 combinations of weights, with w goes from 0, 0.1, 0.2, ..., 1."
      ]
    },
    {
      "cell_type": "code",
      "metadata": {
        "id": "V5jhPtkEVrYz"
      },
      "source": [
        "# here we loop i from 0 to 10\n",
        "for i in range(11):\n",
        "  w= ___\n",
        "  ER_2assets = ______________________\n",
        "  SE_2assets = ______________________\n",
        "  df.loc[i]=________________\n",
        "df\n"
      ],
      "execution_count": null,
      "outputs": []
    },
    {
      "cell_type": "markdown",
      "metadata": {
        "id": "NC4fWIbcbKau"
      },
      "source": [
        "# 6. Draw the risk-return diagram (no need to connect the dots)"
      ]
    },
    {
      "cell_type": "code",
      "metadata": {
        "id": "IXM_XwF6fD0J"
      },
      "source": [
        "plt.scatter(___________)\n",
        "plt.xlabel(___________)\n",
        "plt.ylabel(_____________)"
      ],
      "execution_count": null,
      "outputs": []
    }
  ]
}